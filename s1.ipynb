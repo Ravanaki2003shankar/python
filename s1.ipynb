{
 "cells": [
  {
   "cell_type": "code",
   "execution_count": 1,
   "metadata": {},
   "outputs": [
    {
     "name": "stdout",
     "output_type": "stream",
     "text": [
      "('after joining of', 625, 'and', 545, '=', 80)\n"
     ]
    }
   ],
   "source": [
    "\n",
    "def main():\n",
    "    a=625\n",
    "    b=545\n",
    "    result =concat_function(a,b)\n",
    "    my_string=\"after joining of\",a,\"and\",b,\"=\",result\n",
    "    display_result(my_string)\n",
    "\n",
    "def concat_function(x,y):\n",
    "    result=x-y\n",
    "    return result\n",
    "\n",
    "def display_result(my_string):\n",
    "    print(my_string)\n",
    "    \n",
    "main()\n"
   ]
  },
  {
   "cell_type": "code",
   "execution_count": 2,
   "metadata": {},
   "outputs": [
    {
     "name": "stdout",
     "output_type": "stream",
     "text": [
      "('after joining of', 54, 'and', 12, '=', 42)\n"
     ]
    }
   ],
   "source": [
    "def main():\n",
    "    a=54\n",
    "    b=12\n",
    "    result = concat_function(a,b)\n",
    "    my_string=\"after joining of\" , a , \"and\" , b ,\"=\", result\n",
    "    display_result(my_string)\n",
    "\n",
    "def concat_function(x,y):    \n",
    "    result = x-y\n",
    "    return result\n",
    "\n",
    "def display_result(my_string):\n",
    "    print(my_string)\n",
    "\n",
    "main()\n"
   ]
  }
 ],
 "metadata": {
  "kernelspec": {
   "display_name": "Python 3",
   "language": "python",
   "name": "python3"
  },
  "language_info": {
   "codemirror_mode": {
    "name": "ipython",
    "version": 3
   },
   "file_extension": ".py",
   "mimetype": "text/x-python",
   "name": "python",
   "nbconvert_exporter": "python",
   "pygments_lexer": "ipython3",
   "version": "3.11.2"
  },
  "orig_nbformat": 4
 },
 "nbformat": 4,
 "nbformat_minor": 2
}
