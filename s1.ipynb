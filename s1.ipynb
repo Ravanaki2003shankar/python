{
 "cells": [
  {
   "cell_type": "code",
   "execution_count": 22,
   "metadata": {},
   "outputs": [
    {
     "name": "stdout",
     "output_type": "stream",
     "text": [
      "('subtract of', 625, 'and', 545, '=', 80)\n"
     ]
    }
   ],
   "source": [
    "\n",
    "def main():\n",
    "    a=625\n",
    "    b=545\n",
    "    result =concat_function(a,b)\n",
    "    my_string=\"subtract of\",a,\"and\",b,\"=\",result\n",
    "    display_result(my_string)\n",
    "\n",
    "def concat_function(x,y):\n",
    "    result=x-y\n",
    "    return result\n",
    "\n",
    "def display_result(my_string):\n",
    "    print(my_string)\n",
    "    \n",
    "main()\n"
   ]
  },
  {
   "cell_type": "code",
   "execution_count": 21,
   "metadata": {},
   "outputs": [
    {
     "name": "stdout",
     "output_type": "stream",
     "text": [
      "12 54\n",
      "('swaping  of', 54, 'and', 12, '=', 66)\n"
     ]
    }
   ],
   "source": [
    "def main():\n",
    "    a=54\n",
    "    b=12\n",
    "    result = concat_function(a,b)\n",
    "    swap=\"swaping  of\" , a , \"and\" , b ,\"=\", result\n",
    "    display_result(swap)\n",
    "\n",
    "def concat_function(x,y):    \n",
    "    result=x,y=y,x\n",
    "    print(x,y)\n",
    "    result=y+x\n",
    "    return result \n",
    "\n",
    "\n",
    "def display_result(swap):\n",
    "    print(swap)\n",
    "\n",
    "main()\n"
   ]
  },
  {
   "cell_type": "code",
   "execution_count": 4,
   "metadata": {},
   "outputs": [
    {
     "name": "stdout",
     "output_type": "stream",
     "text": [
      "('h', 'e', 'l', 'l', 'o', ' ', 'p', 'y', 't', 'h', 'o', 'n')\n",
      "tuple[slice(2, 8, None)]\n"
     ]
    }
   ],
   "source": [
    "t1=tuple(\"hello python\")\n",
    "print(t1)\n",
    "print(tuple[2])"
   ]
  },
  {
   "cell_type": "code",
   "execution_count": null,
   "metadata": {},
   "outputs": [],
   "source": [
    "num=(int(input(\"enter the number:\")))\n",
    "\n",
    "if num % 2==0:\n",
    "        print(num,\"is an even number\")\n",
    "else:\n",
    "        print(num,\"is an odd number\")\n"
   ]
  },
  {
   "cell_type": "code",
   "execution_count": 2,
   "metadata": {},
   "outputs": [
    {
     "name": "stdout",
     "output_type": "stream",
     "text": [
      "large element is  526\n"
     ]
    }
   ],
   "source": [
    "list=[]\n",
    "n=int(input(\"enter n numbers\"))\n",
    "for i in range(1,n+1):\n",
    "    a=int(input(\"enter values\"))\n",
    "    list.append(a)\n",
    "print(\"large element is \",max(list))\n"
   ]
  }
 ],
 "metadata": {
  "kernelspec": {
   "display_name": "Python 3",
   "language": "python",
   "name": "python3"
  },
  "language_info": {
   "codemirror_mode": {
    "name": "ipython",
    "version": 3
   },
   "file_extension": ".py",
   "mimetype": "text/x-python",
   "name": "python",
   "nbconvert_exporter": "python",
   "pygments_lexer": "ipython3",
   "version": "3.11.2"
  },
  "orig_nbformat": 4
 },
 "nbformat": 4,
 "nbformat_minor": 2
}
