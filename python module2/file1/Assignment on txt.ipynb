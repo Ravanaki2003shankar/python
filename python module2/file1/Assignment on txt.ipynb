{
 "cells": [
  {
   "attachments": {},
   "cell_type": "markdown",
   "metadata": {},
   "source": [
    " 1.Write a python program to fetch only Email ID from text file  which include following fields -:\n",
    "i)Nameii)Mobile Numberiii)Roll Numberiv)Email ID"
   ]
  },
  {
   "cell_type": "code",
   "execution_count": 8,
   "metadata": {},
   "outputs": [
    {
     "name": "stdout",
     "output_type": "stream",
     "text": [
      "\n",
      "emial id:vinay@gmail.com\n",
      "\n"
     ]
    }
   ],
   "source": [
    "ad={\"name\":\"vinayak\", \"rool number\":\"123\",\"emial id\":\"vinay@gmail.com\"}\n",
    "with open(\"a.txt\",\"w\") as file_handler:\n",
    "\n",
    "    for i,j in ad.items():   \n",
    "        sum=file_handler.write(\"%s:%s\\n\" %(i,j))\n",
    "\n",
    "\n",
    "\n",
    "with open(\"a.txt\",\"r\") as file_handler:\n",
    "    ab=file_handler.seek(30)\n",
    "    lm=file_handler.read(ab)\n",
    "    print(lm)\n"
   ]
  },
  {
   "attachments": {},
   "cell_type": "markdown",
   "metadata": {},
   "source": [
    "2.Write a python program to find the intersection of elements from two list."
   ]
  },
  {
   "cell_type": "code",
   "execution_count": 2,
   "metadata": {},
   "outputs": [
    {
     "name": "stdout",
     "output_type": "stream",
     "text": [
      "[1, 2]\n",
      "{1, 2}\n"
     ]
    }
   ],
   "source": [
    "def intersection(list1,list2):\n",
    "    list3=[value for value in list1 if value in list2]\n",
    "    return list3\n",
    "list1=[1,2,3,4]\n",
    "list2=[1,2,9,8,7,5]\n",
    "print(intersection(list1,list2))\n",
    "\n",
    "# or\n",
    "\n",
    "list1=[1,2,3,4]\n",
    "list2=[1,2,9,8,7,5]\n",
    "set1=set(list1)\n",
    "set2=set(list2)\n",
    "set3=set1&set2\n",
    "print(set3)\n"
   ]
  },
  {
   "attachments": {},
   "cell_type": "markdown",
   "metadata": {},
   "source": [
    "3.suppose a CSV file ‘student.csv’ is already available to you with the following records. write a python program to read this csv file and display its contents on the screen.Rollno, name, class, stream, agg,percenrage, result1 ,ramji,12B,SCIENCE,484,96.8,PASS2,"
   ]
  },
  {
   "cell_type": "code",
   "execution_count": 6,
   "metadata": {},
   "outputs": [],
   "source": [
    "import csv\n",
    "data=[\"NAME\",\"ROLL NUMBER\",\"MARKS\",\"GRADE\"]\n",
    "\n",
    "rows=    [['GOURAV', '111', '80', 'A'], \n",
    "         ['SHANKER', '222', '95', 'A+'], \n",
    "         ['SAMARTH', '333', '96', 'A+'], \n",
    "         ['VINAYAK', '444', '90', 'A+'], \n",
    "         ['HEMANTH', '555', '85', 'A'], \n",
    "         ['RAJ', '666', '90', 'A']]\n",
    "\n",
    "with open(\"a.csv\",\"w\" ) as csvfile:\n",
    "   csvwriter = csv.writer(csvfile)\n",
    "   csvwriter.writerow(data)\n",
    "   csvwriter.writerows(rows)\n",
    "\n",
    "\n",
    "\n"
   ]
  },
  {
   "attachments": {},
   "cell_type": "markdown",
   "metadata": {},
   "source": [
    "4.create a CSV file ‘student.csv’ for the following data \n",
    "name.  \tclass. \tsection101.     \t\n",
    "rakesh\t     10\tD102\t    \n",
    " swarnima   12\tA103.    \t\n",
    "Samriddhi   5\tB104"
   ]
  },
  {
   "cell_type": "code",
   "execution_count": null,
   "metadata": {},
   "outputs": [],
   "source": []
  },
  {
   "attachments": {},
   "cell_type": "markdown",
   "metadata": {},
   "source": [
    " 5.Program to count the occurrence of a specific character in a file."
   ]
  },
  {
   "cell_type": "code",
   "execution_count": 9,
   "metadata": {},
   "outputs": [
    {
     "name": "stdout",
     "output_type": "stream",
     "text": [
      "The character l is found 3 times in text file\n"
     ]
    }
   ],
   "source": [
    "count=0\n",
    "char=input(\"Enter the character :\") #enter the  one character in the text file\n",
    "with open(\"a.txt\",\"r\") as file_handler: #file open with function\n",
    "    for i in file_handler:\n",
    "        for c in i:# c=character in i\n",
    "            if c==char:\n",
    "                count=count+1\n",
    "print(\"The character {} is found {} times in text file\".format(char,count))"
   ]
  },
  {
   "cell_type": "code",
   "execution_count": null,
   "metadata": {},
   "outputs": [],
   "source": []
  }
 ],
 "metadata": {
  "kernelspec": {
   "display_name": "Python 3",
   "language": "python",
   "name": "python3"
  },
  "language_info": {
   "codemirror_mode": {
    "name": "ipython",
    "version": 3
   },
   "file_extension": ".py",
   "mimetype": "text/x-python",
   "name": "python",
   "nbconvert_exporter": "python",
   "pygments_lexer": "ipython3",
   "version": "3.11.2"
  },
  "orig_nbformat": 4
 },
 "nbformat": 4,
 "nbformat_minor": 2
}
