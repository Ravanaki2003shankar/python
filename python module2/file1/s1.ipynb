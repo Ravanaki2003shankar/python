{
 "cells": [
  {
   "cell_type": "code",
   "execution_count": 1,
   "metadata": {},
   "outputs": [
    {
     "name": "stdout",
     "output_type": "stream",
     "text": [
      "('subtract of', 625, 'and', 545, '=', 80)\n"
     ]
    }
   ],
   "source": [
    "\n",
    "def main():\n",
    "    a=625\n",
    "    b=545\n",
    "    result =concat_function(a,b)\n",
    "    my_string=\"subtract of\",a,\"and\",b,\"=\",result\n",
    "    display_result(my_string)\n",
    "\n",
    "def concat_function(x,y):\n",
    "    result=x-y\n",
    "    return result\n",
    "\n",
    "def display_result(my_string):\n",
    "    print(my_string)\n",
    "    \n",
    "main()\n"
   ]
  },
  {
   "cell_type": "code",
   "execution_count": 21,
   "metadata": {},
   "outputs": [
    {
     "name": "stdout",
     "output_type": "stream",
     "text": [
      "12 54\n",
      "('swaping  of', 54, 'and', 12, '=', 66)\n"
     ]
    }
   ],
   "source": [
    "def main():\n",
    "    a=54\n",
    "    b=12\n",
    "    result = concat_function(a,b)\n",
    "    swap=\"swaping  of\" , a , \"and\" , b ,\"=\", result\n",
    "    display_result(swap)\n",
    "\n",
    "def concat_function(x,y):    \n",
    "    result=x,y=y,x\n",
    "    print(x,y)\n",
    "    result=y+x\n",
    "    return result \n",
    "\n",
    "\n",
    "def display_result(swap):\n",
    "    print(swap)\n",
    "\n",
    "main()\n"
   ]
  },
  {
   "cell_type": "code",
   "execution_count": 4,
   "metadata": {},
   "outputs": [
    {
     "name": "stdout",
     "output_type": "stream",
     "text": [
      "('h', 'e', 'l', 'l', 'o', ' ', 'p', 'y', 't', 'h', 'o', 'n')\n",
      "tuple[slice(2, 8, None)]\n"
     ]
    }
   ],
   "source": [
    "t1=tuple(\"hello python\")\n",
    "print(t1)\n",
    "print(tuple[2])"
   ]
  },
  {
   "cell_type": "code",
   "execution_count": null,
   "metadata": {},
   "outputs": [],
   "source": [
    "num=(int(input(\"enter the number:\")))\n",
    "\n",
    "if num % 2==0:\n",
    "        print(num,\"is an even number\")\n",
    "else:\n",
    "        print(num,\"is an odd number\")\n"
   ]
  },
  {
   "cell_type": "code",
   "execution_count": 3,
   "metadata": {},
   "outputs": [
    {
     "name": "stdout",
     "output_type": "stream",
     "text": [
      "large element is  36\n"
     ]
    }
   ],
   "source": [
    "list=[]\n",
    "n=int(input(\"enter n numbers\"))\n",
    "for i in range(1,n+1):\n",
    "    a=int(input(\"enter values\"))\n",
    "    list.append(a)\n",
    "print(\"large element is \",max(list))\n"
   ]
  },
  {
   "cell_type": "code",
   "execution_count": 17,
   "metadata": {},
   "outputs": [
    {
     "ename": "AttributeError",
     "evalue": "'child' object has no attribute '__c'",
     "output_type": "error",
     "traceback": [
      "\u001b[1;31m---------------------------------------------------------------------------\u001b[0m",
      "\u001b[1;31mAttributeError\u001b[0m                            Traceback (most recent call last)",
      "Cell \u001b[1;32mIn[17], line 14\u001b[0m\n\u001b[0;32m     11\u001b[0m         \u001b[39mprint\u001b[39m(\u001b[39mself\u001b[39m\u001b[39m.\u001b[39m__c)\n\u001b[0;32m     13\u001b[0m obj1\u001b[39m=\u001b[39mchild()\n\u001b[1;32m---> 14\u001b[0m \u001b[39mprint\u001b[39m(obj1\u001b[39m.\u001b[39;49m__c)\n",
      "\u001b[1;31mAttributeError\u001b[0m: 'child' object has no attribute '__c'"
     ]
    }
   ],
   "source": [
    "class parent():\n",
    "  \n",
    "    def __int__(self):\n",
    "        self.a=\"python\"\n",
    "        self.__c=\"programming\"\n",
    "\n",
    "class child(parent):\n",
    "    \n",
    "    def __int__(self):\n",
    "        parent.__int__(self)\n",
    "        print(self.__c)\n",
    "\n",
    "obj1=child()\n",
    "print(obj1.__c)"
   ]
  },
  {
   "attachments": {},
   "cell_type": "markdown",
   "metadata": {},
   "source": [
    "inhertance method"
   ]
  },
  {
   "cell_type": "code",
   "execution_count": 31,
   "metadata": {},
   "outputs": [
    {
     "name": "stdout",
     "output_type": "stream",
     "text": [
      "sum : 30\n"
     ]
    }
   ],
   "source": [
    "#  add two numbers using inhertance method\n",
    "\n",
    "class Base():\n",
    "    a=10\n",
    "class Derived(Base):\n",
    "    b=20\n",
    "\n",
    "    def add(self):\n",
    "        c=self.a+self.b\n",
    "        print(\"sum :\",c)\n",
    "\n",
    "obj=Derived()\n",
    "obj.add()\n"
   ]
  },
  {
   "cell_type": "code",
   "execution_count": 48,
   "metadata": {},
   "outputs": [
    {
     "name": "stdout",
     "output_type": "stream",
     "text": [
      "str: python\tworld\n"
     ]
    }
   ],
   "source": [
    "\n",
    "#  add two strings using inhertance method\n",
    "\n",
    "class Base():\n",
    "    a=\"python\"\n",
    "class Derived(Base):\n",
    "    b=\"\\tworld\"\n",
    "\n",
    "    def str(self):\n",
    "        c=self.a+self.b\n",
    "        print(\"str:\",c)\n",
    "\n",
    "obj=Derived()\n",
    "obj.str()\n"
   ]
  },
  {
   "cell_type": "code",
   "execution_count": 64,
   "metadata": {},
   "outputs": [
    {
     "ename": "TypeError",
     "evalue": "pass_clases.pass_function() missing 1 required positional argument: 'self'",
     "output_type": "error",
     "traceback": [
      "\u001b[1;31m---------------------------------------------------------------------------\u001b[0m",
      "\u001b[1;31mTypeError\u001b[0m                                 Traceback (most recent call last)",
      "Cell \u001b[1;32mIn[64], line 9\u001b[0m\n\u001b[0;32m      6\u001b[0m             \u001b[39mprint\u001b[39m(\u001b[39m\"\u001b[39m\u001b[39m10 is bgrater\u001b[39m\u001b[39m\"\u001b[39m)\n\u001b[0;32m      8\u001b[0m obj\u001b[39m=\u001b[39m(pass_clases)\n\u001b[1;32m----> 9\u001b[0m obj\u001b[39m.\u001b[39;49mpass_function()\n",
      "\u001b[1;31mTypeError\u001b[0m: pass_clases.pass_function() missing 1 required positional argument: 'self'"
     ]
    }
   ],
   "source": [
    "class pass_clases():\n",
    "    def pass_function(self):\n",
    "        if 20<10:\n",
    "            print(\"20 is greter \")\n",
    "        else:\n",
    "            print(\"10 is bgrater\")\n",
    "\n",
    "obj=(pass_clases)\n",
    "obj.pass_function()"
   ]
  },
  {
   "cell_type": "code",
   "execution_count": 73,
   "metadata": {},
   "outputs": [
    {
     "name": "stdout",
     "output_type": "stream",
     "text": [
      "hexagon have 6 sides\n"
     ]
    }
   ],
   "source": [
    "from abc import ABC,abstractmethod\n",
    "\n",
    "class polygon(ABC):\n",
    "\n",
    "    @abstractmethod\n",
    "    def noof_sides(self):\n",
    "        pass\n",
    "\n",
    "class triangle(polygon):\n",
    "\n",
    "    def noof_sides(self):\n",
    "        print(\"triangle have 3 sides \")\n",
    "\n",
    "class pentagon(polygon):\n",
    "\n",
    "    def noof_sides(self):\n",
    "        print(\"pentagon have 5 sides\")\n",
    "\n",
    "class hexagon(polygon):\n",
    "\n",
    "    def noof_sides(self):\n",
    "        print(\"hexagon have 6 sides\")\n",
    "\n",
    "obj5=(polygon)\n",
    "obj5=triangle()\n",
    "obj5=pentagon()\n",
    "obj5=hexagon()\n",
    "obj5.noof_sides()\n"
   ]
  }
 ],
 "metadata": {
  "kernelspec": {
   "display_name": "Python 3",
   "language": "python",
   "name": "python3"
  },
  "language_info": {
   "codemirror_mode": {
    "name": "ipython",
    "version": 3
   },
   "file_extension": ".py",
   "mimetype": "text/x-python",
   "name": "python",
   "nbconvert_exporter": "python",
   "pygments_lexer": "ipython3",
   "version": "3.11.2"
  },
  "orig_nbformat": 4
 },
 "nbformat": 4,
 "nbformat_minor": 2
}
