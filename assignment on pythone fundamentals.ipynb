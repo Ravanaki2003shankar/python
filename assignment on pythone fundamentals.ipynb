{
 "cells": [
  {
   "cell_type": "code",
   "execution_count": null,
   "metadata": {},
   "outputs": [],
   "source": [
    "#1. program to print sum two numbers\n",
    "\n",
    "# a=3\n",
    "# b=6\n",
    "# sum=a+b\n",
    "# print(sum)"
   ]
  },
  {
   "cell_type": "code",
   "execution_count": null,
   "metadata": {},
   "outputs": [],
   "source": [
    "#2.program to find square root of numbers\n",
    "# import math\n",
    "# print(math.sqrt(25))"
   ]
  },
  {
   "cell_type": "code",
   "execution_count": null,
   "metadata": {},
   "outputs": [],
   "source": [
    " #3. python program to calculate the area of traingle\n",
    "# b,h=12,15\n",
    "# area=(0.5*b*h)\n",
    "# print(\"area of triangle\",area)\n"
   ]
  },
  {
   "cell_type": "code",
   "execution_count": null,
   "metadata": {},
   "outputs": [],
   "source": [
    "\n",
    "# #4.python program simple interest\n",
    "# p,t,r,=5000,5,6\n",
    "# si=p*(t*r)/100\n",
    "# print(\"simple intrest\",si)"
   ]
  },
  {
   "cell_type": "code",
   "execution_count": null,
   "metadata": {},
   "outputs": [],
   "source": [
    "#5.python program for compound interest\n",
    "# p=1200\n",
    "# t=2\n",
    "# r=5.4\n",
    "# a=p*(1+(r/100))*t\n",
    "# ci=a-p\n",
    "# print(ci)\n",
    "# print(\"compound interest\",ci)"
   ]
  },
  {
   "cell_type": "code",
   "execution_count": null,
   "metadata": {},
   "outputs": [],
   "source": [
    "#print6.(\"principle amount\",1200,\"time\",2,\"rate\",5.4,\"amount\",1200*(1+(5.4/100)**2),\"ci=\",1329.6-1200)"
   ]
  },
  {
   "cell_type": "code",
   "execution_count": null,
   "metadata": {},
   "outputs": [],
   "source": [
    "#7.program to print area of circle\n",
    "# r=10\n",
    "# area=3.142*r*r\n",
    "# print(\" area of circle\",area)"
   ]
  },
  {
   "cell_type": "code",
   "execution_count": null,
   "metadata": {},
   "outputs": [],
   "source": [
    "8.program to find swap of numbers \n",
    "# p,q=132,58\n",
    "# p,q=q,p\n",
    "# print(\"value\",q)\n"
   ]
  },
  {
   "cell_type": "code",
   "execution_count": null,
   "metadata": {},
   "outputs": [],
   "source": [
    "8.python program to check if a numbersis positive negative or 0\n",
    "\n",
    "# n=-5\n",
    "# if(n>0):\n",
    "#     print(\"value of number is positive\",n)\n",
    "# elif(n<0):\n",
    "#     print(\"value of number  is nagative\",n)\n",
    "# else:print(\"value is 0\")\n"
   ]
  },
  {
   "cell_type": "code",
   "execution_count": null,
   "metadata": {},
   "outputs": [],
   "source": [
    "9. program to vfind even and odd numbers\n",
    "\n",
    "# n=10\n",
    "# if(n%2==0):\n",
    "#     print(\"given number is even\",n)\n",
    "# else:\n",
    "#     print(\"given number is odd\",n)"
   ]
  },
  {
   "cell_type": "code",
   "execution_count": null,
   "metadata": {},
   "outputs": [],
   "source": [
    "10.program to find the largest of three numbers\n",
    "\n",
    "# num1,num2,num3=10,17,27\n",
    "# if(num1>=num2)and (num1>=num3):\n",
    "#     largest=num1\n",
    "# elif(num2>=num1) and (num2>=num3):\n",
    "#     largerst= num2\n",
    "# else:\n",
    "#     largest=num3\n",
    "# print(\"the largestb number is \",largest)\n"
   ]
  },
  {
   "cell_type": "code",
   "execution_count": null,
   "metadata": {},
   "outputs": [],
   "source": [
    "11. program to find factorial of number\n",
    "# num=15\n",
    "# factorial=1\n",
    "# for i in range(1,num+1):\n",
    "#     factorial = factorial*i\n",
    "#     print(\"the factorial of\",num,\"is\",factorial)\n",
    "\n",
    "# def fibonacci(n):\n",
    "#         if(n==1)or(n==2):\n",
    "#             return 1\n",
    "#         else:\n",
    "#             return fibonacci(n-1)+ fibonacci(n-2)\n",
    "# print(fibonacci(15))"
   ]
  }
 ],
 "metadata": {
  "language_info": {
   "name": "python"
  },
  "orig_nbformat": 4
 },
 "nbformat": 4,
 "nbformat_minor": 2
}
