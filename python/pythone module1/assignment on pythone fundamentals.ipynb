{
 "cells": [
  {
   "cell_type": "code",
   "execution_count": null,
   "metadata": {},
   "outputs": [],
   "source": []
  },
  {
   "cell_type": "markdown",
   "metadata": {},
   "source": []
  },
  {
   "cell_type": "code",
   "execution_count": null,
   "metadata": {},
   "outputs": [],
   "source": []
  },
  {
   "attachments": {},
   "cell_type": "markdown",
   "metadata": {},
   "source": [
    "#1. program to print sum two numbers"
   ]
  },
  {
   "cell_type": "code",
   "execution_count": null,
   "metadata": {},
   "outputs": [],
   "source": []
  },
  {
   "cell_type": "markdown",
   "metadata": {},
   "source": []
  },
  {
   "cell_type": "code",
   "execution_count": null,
   "metadata": {},
   "outputs": [],
   "source": []
  },
  {
   "cell_type": "markdown",
   "metadata": {},
   "source": []
  },
  {
   "cell_type": "code",
   "execution_count": null,
   "metadata": {},
   "outputs": [],
   "source": []
  },
  {
   "cell_type": "markdown",
   "metadata": {},
   "source": []
  },
  {
   "cell_type": "code",
   "execution_count": null,
   "metadata": {},
   "outputs": [],
   "source": [
    "\n",
    "\n",
    "# a=3\n",
    "# b=6\n",
    "# sum=a+b\n",
    "# print(sum)"
   ]
  },
  {
   "attachments": {},
   "cell_type": "markdown",
   "metadata": {},
   "source": [
    "#2.program to find square root of numbers"
   ]
  },
  {
   "cell_type": "code",
   "execution_count": null,
   "metadata": {},
   "outputs": [],
   "source": [
    "\n",
    "# import math\n",
    "# print(math.sqrt(25))"
   ]
  },
  {
   "attachments": {},
   "cell_type": "markdown",
   "metadata": {},
   "source": [
    " #3. python program to calculate the area of traingle"
   ]
  },
  {
   "cell_type": "code",
   "execution_count": null,
   "metadata": {},
   "outputs": [],
   "source": [
    "\n",
    "# b,h=12,15\n",
    "# area=(0.5*b*h)\n",
    "# print(\"area of triangle\",area)\n"
   ]
  },
  {
   "attachments": {},
   "cell_type": "markdown",
   "metadata": {},
   "source": [
    "\n",
    "\n",
    " #4.python program simple interest"
   ]
  },
  {
   "cell_type": "code",
   "execution_count": null,
   "metadata": {},
   "outputs": [],
   "source": [
    "\n",
    "# p,t,r,=5000,5,6\n",
    "# si=p*(t*r)/100\n",
    "# print(\"simple intrest\",si)"
   ]
  },
  {
   "attachments": {},
   "cell_type": "markdown",
   "metadata": {},
   "source": [
    "#5.python program for compound interest"
   ]
  },
  {
   "cell_type": "code",
   "execution_count": null,
   "metadata": {},
   "outputs": [],
   "source": [
    "\n",
    "# p=1200\n",
    "# t=2\n",
    "# r=5.4\n",
    "# a=p*(1+(r/100))*t\n",
    "# ci=a-p\n",
    "# print(ci)\n",
    "# print(\"compound interest\",ci)"
   ]
  },
  {
   "cell_type": "code",
   "execution_count": null,
   "metadata": {},
   "outputs": [],
   "source": [
    "#print6.(\"principle amount\",1200,\"time\",2,\"rate\",5.4,\"amount\",1200*(1+(5.4/100)**2),\"ci=\",1329.6-1200)"
   ]
  },
  {
   "attachments": {},
   "cell_type": "markdown",
   "metadata": {},
   "source": [
    "#7.program to print area of circle"
   ]
  },
  {
   "cell_type": "code",
   "execution_count": null,
   "metadata": {},
   "outputs": [],
   "source": [
    "\n",
    "# r=10\n",
    "# area=3.142*r*r\n",
    "# print(\" area of circle\",area)"
   ]
  },
  {
   "attachments": {},
   "cell_type": "markdown",
   "metadata": {},
   "source": [
    "8.program to find swap of numbers "
   ]
  },
  {
   "cell_type": "code",
   "execution_count": null,
   "metadata": {},
   "outputs": [],
   "source": [
    "\n",
    "# p,q=132,58\n",
    "# p,q=q,p\n",
    "# print(\"value\",q)\n"
   ]
  },
  {
   "attachments": {},
   "cell_type": "markdown",
   "metadata": {},
   "source": [
    "9.python program to check if a numbersis positive negative or 0"
   ]
  },
  {
   "cell_type": "code",
   "execution_count": null,
   "metadata": {},
   "outputs": [],
   "source": [
    "\n",
    "\n",
    "# n=-5\n",
    "# if(n>0):\n",
    "#     print(\"value of number is positive\",n)\n",
    "# elif(n<0):\n",
    "#     print(\"value of number  is nagative\",n)\n",
    "# else:print(\"value is 0\")\n"
   ]
  },
  {
   "attachments": {},
   "cell_type": "markdown",
   "metadata": {},
   "source": [
    "10. program to vfind even and odd numbers"
   ]
  },
  {
   "cell_type": "code",
   "execution_count": null,
   "metadata": {},
   "outputs": [],
   "source": [
    "\n",
    "\n",
    "# n=10\n",
    "# if(n%2==0):\n",
    "#     print(\"given number is even\",n)\n",
    "# else:\n",
    "#     print(\"given number is odd\",n)"
   ]
  },
  {
   "attachments": {},
   "cell_type": "markdown",
   "metadata": {},
   "source": [
    "11.program to find the largest of three numbers"
   ]
  },
  {
   "cell_type": "code",
   "execution_count": null,
   "metadata": {},
   "outputs": [],
   "source": [
    "\n",
    "\n",
    "# num1,num2,num3=10,17,27\n",
    "# if(num1>=num2)and (num1>=num3):\n",
    "#     largest=num1\n",
    "# elif(num2>=num1) and (num2>=num3):\n",
    "#     largerst= num2\n",
    "# else:\n",
    "#     largest=num3\n",
    "# print(\"the largestb number is \",largest)\n"
   ]
  },
  {
   "attachments": {},
   "cell_type": "markdown",
   "metadata": {},
   "source": [
    "12. program to find factorial of number"
   ]
  },
  {
   "cell_type": "code",
   "execution_count": null,
   "metadata": {},
   "outputs": [],
   "source": [
    "\n",
    "# num=15\n",
    "# factorial=1\n",
    "# for i in range(1,num+1):\n",
    "#     factorial = factorial*i\n",
    "#     print(\"the factorial of\",num,\"is\",factorial)\n",
    "\n",
    "# def fibonacci(n):\n",
    "#         if(n==1)or(n==2):\n",
    "#             return 1\n",
    "#         else:\n",
    "#             return fibonacci(n-1)+ fibonacci(n-2)\n",
    "# print(fibonacci(15))"
   ]
  },
  {
   "attachments": {},
   "cell_type": "markdown",
   "metadata": {},
   "source": [
    "17.python program to find numbers divisible by another number"
   ]
  },
  {
   "cell_type": "code",
   "execution_count": null,
   "metadata": {},
   "outputs": [],
   "source": []
  },
  {
   "attachments": {},
   "cell_type": "markdown",
   "metadata": {},
   "source": [
    "18.python program to convert Decimal to bianery,Octal and hexa decimal"
   ]
  },
  {
   "cell_type": "code",
   "execution_count": 8,
   "metadata": {},
   "outputs": [
    {
     "name": "stdout",
     "output_type": "stream",
     "text": [
      "0x8c1b\n",
      "0o106033\n",
      "0b1000110000011011\n"
     ]
    }
   ],
   "source": [
    "\n",
    "n=int(input(\"enter the  value\"))\n",
    "print(hex(n))\n",
    "print(oct(n))\n",
    "print(bin(n))"
   ]
  },
  {
   "attachments": {},
   "cell_type": "markdown",
   "metadata": {},
   "source": [
    "19.python program find ASCII value of character"
   ]
  },
  {
   "cell_type": "code",
   "execution_count": 16,
   "metadata": {},
   "outputs": [
    {
     "name": "stdout",
     "output_type": "stream",
     "text": [
      " ASCII value  'z' is  122\n"
     ]
    }
   ],
   "source": [
    "n1=(input(\"enter the value\"))\n",
    "print(\" ASCII value  '\"+ n1 +\"' is \",ord(n1))\n",
    "\n"
   ]
  },
  {
   "attachments": {},
   "cell_type": "markdown",
   "metadata": {},
   "source": [
    "20.python program to find Factors of number"
   ]
  },
  {
   "cell_type": "code",
   "execution_count": 18,
   "metadata": {},
   "outputs": [
    {
     "name": "stdout",
     "output_type": "stream",
     "text": [
      "Factors of 100 are: [1, 2, 4, 5, 10, 20, 25, 50, 100]\n"
     ]
    }
   ],
   "source": [
    "\n",
    "\n",
    "number = int(input(\"Enter a number to find its factors: \"))\n",
    "factors = []\n",
    "for i in range(1, number+1):\n",
    "    if number % i == 0:\n",
    "        factors.append(i)\n",
    "print(\"Factors of\", number, \"are:\", factors)"
   ]
  },
  {
   "cell_type": "markdown",
   "metadata": {},
   "source": []
  },
  {
   "cell_type": "code",
   "execution_count": null,
   "metadata": {},
   "outputs": [],
   "source": []
  }
 ],
 "metadata": {
  "kernelspec": {
   "display_name": "Python 3",
   "language": "python",
   "name": "python3"
  },
  "language_info": {
   "codemirror_mode": {
    "name": "ipython",
    "version": 3
   },
   "file_extension": ".py",
   "mimetype": "text/x-python",
   "name": "python",
   "nbconvert_exporter": "python",
   "pygments_lexer": "ipython3",
   "version": "3.11.2"
  },
  "orig_nbformat": 4
 },
 "nbformat": 4,
 "nbformat_minor": 2
}
