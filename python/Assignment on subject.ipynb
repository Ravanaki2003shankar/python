{
 "cells": [
  {
   "cell_type": "code",
   "execution_count": 3,
   "metadata": {},
   "outputs": [
    {
     "name": "stdout",
     "output_type": "stream",
     "text": [
      "age1 is eldest 99\n"
     ]
    }
   ],
   "source": [
    "# 1) write program to find the eldest amoung three person age recived from the user\n",
    "\n",
    "age1=(int(input(\"enter the age\")))\n",
    "age2=(int(input(\"enter the age\")))\n",
    "age3=(int(input(\"enter the age\")))\n",
    "if (age1>age2) and(age1>age3):\n",
    "    print(\"age1 is eldest\",age1)\n",
    "elif (age2>age1) and (age2>age3):\n",
    "    print(\"age2 is eldest\",age2)\n",
    "else:\n",
    "    print(\"age3 is eldest\",age3)\n",
    "\n",
    "\n",
    "    # OR\n",
    "\n",
    "\n",
    "list=[]\n",
    "n=int(input(\"enter the age\"))\n",
    "for i in range(1,n+1):\n",
    "    a=int(input(\"enter values\"))\n",
    "    list.append(a)\n",
    "print(\" eldest amoung three \",max(list))"
   ]
  },
  {
   "cell_type": "code",
   "execution_count": 7,
   "metadata": {},
   "outputs": [
    {
     "name": "stdout",
     "output_type": "stream",
     "text": [
      "56\n",
      " positive\n"
     ]
    }
   ],
   "source": [
    "# 2) Write a program to check the number record from the user is positive or nagative\n",
    "\n",
    "n=(int(input(\"enter tyhe number\")))\n",
    "print(n)\n",
    "if (n>0):\n",
    "    print(\" positive\")\n",
    "else:\n",
    "    print(\"nagative\")"
   ]
  },
  {
   "cell_type": "code",
   "execution_count": 8,
   "metadata": {},
   "outputs": [
    {
     "name": "stdout",
     "output_type": "stream",
     "text": [
      "100\n",
      "10\n",
      "fail 10\n"
     ]
    }
   ],
   "source": [
    "# 3) Write a program if you have  wrriten an exam for total score of 100 and if your score above are equal to60 then you will be consider as pass in the exam.\n",
    "s=(int(input(\"the total exam score\")))\n",
    "print(s)\n",
    "s1=int(input(\"enter the  scored marks\"))\n",
    "print(s1)\n",
    "if (s1>=60):\n",
    "    print(\"pass\",s1)\n",
    "else:\n",
    "    print(\"fail\",s1)"
   ]
  },
  {
   "cell_type": "code",
   "execution_count": 8,
   "metadata": {},
   "outputs": [
    {
     "name": "stdout",
     "output_type": "stream",
     "text": [
      "25\n",
      "36\n",
      "addition of number 61\n",
      "subtraction of number -11\n",
      "multiplication of number 900\n",
      "Division of  number 0.6944444444444444\n",
      "floar division of number 0\n",
      "moudul of  number 25\n",
      "squarerroot of  number 211758236813575084767080625169910490512847900390625\n",
      "cap of  number 61\n"
     ]
    }
   ],
   "source": [
    "# 5)Write a program to accept two numbers & mathematical operater and perform operations accordingly\n",
    "\n",
    "a=(int(input(\"enter the number\")))\n",
    "print(a)\n",
    "b=(int(input(\"enter the number\")))\n",
    "print(b)\n",
    "print(\"addition of number\",a+b)\n",
    "print(\"subtraction of number\",a-b)\n",
    "print(\"multiplication of number\",a*b)\n",
    "print(\"Division of  number\",a/b)\n",
    "print(\"floar division of number\",a//b)\n",
    "print(\"moudul of  number\",a%b)\n",
    "print(\"squarerroot of  number\",a**b)\n",
    "print(\"cap of  number\",a^b)\n",
    "\n"
   ]
  },
  {
   "cell_type": "code",
   "execution_count": null,
   "metadata": {},
   "outputs": [],
   "source": [
    "# 4) Write a program to check if the given number is prime or not\n",
    "\n",
    "d1=(int(input(\"enter the number\")))\n",
    "print(d1)\n",
    "d2=(int(input(\"enter the number\")))\n",
    "print(d2)\n",
    "if (d1/d2):\n",
    "    print(\" is prime number\")\n",
    "else:\n",
    "    print(\"is not\")\n",
    "\n",
    "\n",
    "\n",
    "\n",
    "\n",
    "num=(int(input(\"enter any number\")))\n",
    "if num>1:\n",
    "    print()"
   ]
  },
  {
   "attachments": {},
   "cell_type": "markdown",
   "metadata": {},
   "source": [
    "simple interest(p*(t*r)/100)"
   ]
  },
  {
   "cell_type": "code",
   "execution_count": 1,
   "metadata": {},
   "outputs": [
    {
     "name": "stdout",
     "output_type": "stream",
     "text": [
      "9600.0\n"
     ]
    }
   ],
   "source": [
    "p=int(input(\"enter principle amount\"))\n",
    "t=int(input(\"enter the time \"))\n",
    "r=int(input(\"enter rate of amount\"))\n",
    "\n",
    "def function(p,t,r):\n",
    "    si=p*(t*r)/100\n",
    "    return si\n",
    "\n",
    "ans=function(p,t,r)\n",
    "print(ans)"
   ]
  },
  {
   "attachments": {},
   "cell_type": "markdown",
   "metadata": {},
   "source": [
    "compound interest p*(1+(r/100))**t"
   ]
  },
  {
   "cell_type": "code",
   "execution_count": 2,
   "metadata": {},
   "outputs": [
    {
     "name": "stdout",
     "output_type": "stream",
     "text": [
      "15181.701168189804\n"
     ]
    }
   ],
   "source": [
    "p=int(input(\"enter principle amount\"))#1000\n",
    "t=int(input(\"enter the time \"))#5\n",
    "r=int(input(\"enter rate of amount\"))#70\n",
    "\n",
    "def function(p,t,r):\n",
    "    a=p*(1+(r/100))**t\n",
    "    CI=a-p\n",
    "    return CI\n",
    "\n",
    "ans=function(p,t,r)\n",
    "print(ans)"
   ]
  }
 ],
 "metadata": {
  "kernelspec": {
   "display_name": "Python 3",
   "language": "python",
   "name": "python3"
  },
  "language_info": {
   "codemirror_mode": {
    "name": "ipython",
    "version": 3
   },
   "file_extension": ".py",
   "mimetype": "text/x-python",
   "name": "python",
   "nbconvert_exporter": "python",
   "pygments_lexer": "ipython3",
   "version": "3.11.2"
  },
  "orig_nbformat": 4
 },
 "nbformat": 4,
 "nbformat_minor": 2
}
