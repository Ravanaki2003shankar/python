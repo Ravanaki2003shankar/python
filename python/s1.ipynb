{
 "cells": [
  {
   "cell_type": "code",
   "execution_count": 50,
   "metadata": {},
   "outputs": [
    {
     "name": "stdout",
     "output_type": "stream",
     "text": [
      "largest of these number : 445\n"
     ]
    }
   ],
   "source": [
    "\n",
    "    \n",
    "list=[12,23,445,65,78,87,]\n",
    "print(\"largest of these number :\", max(list))\n"
   ]
  },
  {
   "attachments": {},
   "cell_type": "markdown",
   "metadata": {},
   "source": [
    "Intiger :type(object) -> the object's type type(name, bases, dict, **kwds) -> a new type"
   ]
  },
  {
   "cell_type": "code",
   "execution_count": 51,
   "metadata": {},
   "outputs": [
    {
     "name": "stdout",
     "output_type": "stream",
     "text": [
      "67\n",
      "<class 'int'>\n"
     ]
    }
   ],
   "source": [
    "a=67\n",
    "print(a)\n",
    "print(type(a))"
   ]
  },
  {
   "cell_type": "code",
   "execution_count": 52,
   "metadata": {},
   "outputs": [
    {
     "name": "stdout",
     "output_type": "stream",
     "text": [
      "0\n"
     ]
    }
   ],
   "source": [
    "# a=16\n",
    "# b=45\n",
    "# c=a//b\n",
    "# c\n",
    "a=10\n",
    "b=2\n",
    "c=a%b\n",
    "print(c)\n"
   ]
  },
  {
   "attachments": {},
   "cell_type": "markdown",
   "metadata": {},
   "source": [
    "float"
   ]
  },
  {
   "cell_type": "code",
   "execution_count": 53,
   "metadata": {},
   "outputs": [
    {
     "name": "stdout",
     "output_type": "stream",
     "text": [
      "6.7\n",
      "<class 'float'>\n",
      "0.8571428571428571\n",
      "<class 'float'>\n"
     ]
    }
   ],
   "source": [
    "a=6.7\n",
    "print(a)\n",
    "print(type(a))\n",
    "\n",
    "a=6/7\n",
    "print(a)\n",
    "print(type(a))"
   ]
  },
  {
   "attachments": {},
   "cell_type": "markdown",
   "metadata": {},
   "source": [
    "complex number"
   ]
  },
  {
   "cell_type": "code",
   "execution_count": 54,
   "metadata": {},
   "outputs": [
    {
     "name": "stdout",
     "output_type": "stream",
     "text": [
      "(2+3j)\n",
      "<class 'complex'>\n",
      "(-13+13j)\n"
     ]
    }
   ],
   "source": [
    "a=2+3j\n",
    "print(a)\n",
    "print(type(a))\n",
    "\n",
    "a=1+5j\n",
    "b=2+3j\n",
    "# a+id * c+id=(a*c-b*d)+i(a*d+b*c)\n",
    "c=a*b\n",
    "print(c)"
   ]
  },
  {
   "attachments": {},
   "cell_type": "markdown",
   "metadata": {},
   "source": [
    "boolean"
   ]
  },
  {
   "cell_type": "code",
   "execution_count": 55,
   "metadata": {},
   "outputs": [
    {
     "name": "stdout",
     "output_type": "stream",
     "text": [
      "True\n",
      "False\n",
      "False\n",
      "False\n"
     ]
    }
   ],
   "source": [
    "a=True\n",
    "b=False\n",
    "print(bool(a))\n",
    "print(bool(b))\n",
    "print(a==b)\n",
    "\n",
    "c=None\n",
    "print(bool(c))\n",
    "\n",
    "\n"
   ]
  },
  {
   "attachments": {},
   "cell_type": "markdown",
   "metadata": {},
   "source": [
    "string"
   ]
  },
  {
   "cell_type": "code",
   "execution_count": null,
   "metadata": {},
   "outputs": [],
   "source": []
  },
  {
   "cell_type": "code",
   "execution_count": 56,
   "metadata": {},
   "outputs": [
    {
     "name": "stdout",
     "output_type": "stream",
     "text": [
      "you need to eat some food\n"
     ]
    }
   ],
   "source": [
    "user_input=bool(input(\"are you hungry ?True or False\"))\n",
    "if user_input:\n",
    "    print(\"you need to eat some food\")\n",
    "else:\n",
    "    print(\"let's go for walk:\", user_input)\n"
   ]
  },
  {
   "attachments": {},
   "cell_type": "markdown",
   "metadata": {},
   "source": [
    "lists"
   ]
  },
  {
   "cell_type": "code",
   "execution_count": 57,
   "metadata": {},
   "outputs": [
    {
     "name": "stdout",
     "output_type": "stream",
     "text": [
      "python\n"
     ]
    }
   ],
   "source": [
    " \n",
    "\n",
    "a=[10,25.25,'''hello world''',25,258.5,[100,1085,[\"python\"]]]\n",
    "print(a[5][2][0])\n"
   ]
  },
  {
   "cell_type": "code",
   "execution_count": 58,
   "metadata": {},
   "outputs": [
    {
     "name": "stdout",
     "output_type": "stream",
     "text": [
      "[1, 2, 3, 4, 5, 6, 7, 8, 9, 10]\n",
      "[1, 4, 7, 10]\n"
     ]
    }
   ],
   "source": [
    "# # list1=input(\"enter the elelment:\")\n",
    "# # list2=list1.split()\n",
    "# # print(list2)\n",
    "\n",
    "# a=10\n",
    "# b=20\n",
    "# c=[]\n",
    "# append\n",
    "# c.append(input(\"enter the element :\"))\n",
    "# c.append(input(\"enter the elementa :\"))\n",
    "# print(c)\n",
    "\n",
    "# list=[]\n",
    "# list.append(input(\"enter the element\"))\n",
    "# list\n",
    "\n",
    "# list=[1,2,3,4,5]\n",
    "# print(list)\n",
    "\n",
    "# list.insert(0,[\"hello python\",100,200])\n",
    "# print(list)\n",
    "\n",
    "# extend\n",
    "\n",
    "# list=[0,1,2]\n",
    "# list.extend([3,4,5,6,7,8,9,10])\n",
    "# list\n",
    "# # reverse\n",
    "# list=[0, 1, 2, 3, 4, 5, 6, 7, 8, 9, 10]\n",
    "# print(list)\n",
    "# list.reverse()\n",
    "# list\n",
    "\n",
    "# remove\n",
    "\n",
    "# list=[0, 1, 2, 3, 4, 5, 6, 7, 8, 9, 10]\n",
    "# print(list)\n",
    "\n",
    "# for a in list :\n",
    "#     print(a)\n",
    "#     list.remove(a)\n",
    "\n",
    "# print(list)\n",
    "\n",
    "# pop function\n",
    "# list=[0, 1, 2, 3, 4, 5, 6, 7, 8, 9, 10]\n",
    "# print(list)\n",
    "# returnvalue=(list.pop(-7))\n",
    "# print(returnvalue)\n",
    "# list\n",
    "\n",
    "# slicing_list\n",
    "list=[ 1, 2, 3, 4, 5, 6, 7, 8, 9, 10]\n",
    "print(list)\n",
    "sliced_list=list[0:10:3]\n",
    "print(sliced_list)\n",
    "\n",
    "\n"
   ]
  },
  {
   "attachments": {},
   "cell_type": "markdown",
   "metadata": {},
   "source": [
    "string\n"
   ]
  },
  {
   "cell_type": "code",
   "execution_count": 59,
   "metadata": {},
   "outputs": [
    {
     "name": "stdout",
     "output_type": "stream",
     "text": [
      "KEONICS HUBLI\n"
     ]
    }
   ],
   "source": [
    "text=\"keonics hubli\"\n",
    "a=text.upper()\n",
    "print(a)"
   ]
  },
  {
   "attachments": {},
   "cell_type": "markdown",
   "metadata": {},
   "source": [
    " tuple"
   ]
  },
  {
   "cell_type": "code",
   "execution_count": 60,
   "metadata": {},
   "outputs": [
    {
     "name": "stdout",
     "output_type": "stream",
     "text": [
      "25\n"
     ]
    },
    {
     "data": {
      "text/plain": [
       "('python', 10, 11, 12, 13, 14)"
      ]
     },
     "execution_count": 60,
     "metadata": {},
     "output_type": "execute_result"
    }
   ],
   "source": [
    "t1=('python',[10,25])\n",
    "print(t1[1][1])\n",
    "t1\n",
    "\n",
    "t1=('python',10)\n",
    "t2=(11,12,13,14)\n",
    "t3=(t1+t2)\n",
    "t3"
   ]
  },
  {
   "cell_type": "code",
   "execution_count": 61,
   "metadata": {},
   "outputs": [
    {
     "name": "stdout",
     "output_type": "stream",
     "text": [
      "100\n",
      "1520\n",
      "142\n"
     ]
    }
   ],
   "source": [
    "t1=(100,1520,142)\n",
    "t1\n",
    "max(t1)\n",
    "a,b,c=t1\n",
    "print(a)\n",
    "print(b)\n",
    "print(c)"
   ]
  },
  {
   "cell_type": "code",
   "execution_count": 62,
   "metadata": {},
   "outputs": [
    {
     "data": {
      "text/plain": [
       "21"
      ]
     },
     "execution_count": 62,
     "metadata": {},
     "output_type": "execute_result"
    }
   ],
   "source": [
    "t1=(\"hello to python world\")\n",
    "# print(t1)\n",
    "# del t1\n",
    "# print(t1)\n",
    "len(t1)"
   ]
  },
  {
   "attachments": {},
   "cell_type": "markdown",
   "metadata": {},
   "source": [
    "set()"
   ]
  },
  {
   "cell_type": "code",
   "execution_count": 63,
   "metadata": {},
   "outputs": [
    {
     "name": "stdout",
     "output_type": "stream",
     "text": [
      "{'n', 'd', 'w', ' ', 'e', 'h', 'p', 't', 'o', 'r', 'l', 'y', 's', 'i'}\n"
     ]
    }
   ],
   "source": [
    "s1=set(\"python is on the world\")\n",
    "print(s1)"
   ]
  },
  {
   "cell_type": "code",
   "execution_count": 64,
   "metadata": {},
   "outputs": [
    {
     "name": "stdout",
     "output_type": "stream",
     "text": [
      "n\n",
      " \n",
      "e\n",
      "h\n",
      "p\n",
      "t\n",
      "l\n",
      "o\n",
      "y\n"
     ]
    }
   ],
   "source": [
    "s1=set(\"hello python\")\n",
    "for i in s1:\n",
    "    print(i,sep='')"
   ]
  },
  {
   "cell_type": "code",
   "execution_count": 65,
   "metadata": {},
   "outputs": [
    {
     "name": "stdout",
     "output_type": "stream",
     "text": [
      "<class 'tuple'>\n"
     ]
    },
    {
     "data": {
      "text/plain": [
       "(1, 2, 3, 'python')"
      ]
     },
     "execution_count": 65,
     "metadata": {},
     "output_type": "execute_result"
    }
   ],
   "source": [
    "s1=(1,2,3,\"python\")\n",
    "print(type(s1))\n",
    "s1"
   ]
  },
  {
   "cell_type": "code",
   "execution_count": 66,
   "metadata": {},
   "outputs": [
    {
     "name": "stdout",
     "output_type": "stream",
     "text": [
      "{1, 3, 5, 6, 7, 8, 9}\n"
     ]
    }
   ],
   "source": [
    "s1={6,7,8}\n",
    "\n",
    "s1.add(9)\n",
    "for i in range(1,6,2):\n",
    "    s1.add(i)\n",
    "print(s1)"
   ]
  },
  {
   "attachments": {},
   "cell_type": "markdown",
   "metadata": {},
   "source": [
    "Dictionary"
   ]
  },
  {
   "cell_type": "code",
   "execution_count": 67,
   "metadata": {},
   "outputs": [
    {
     "name": "stdout",
     "output_type": "stream",
     "text": [
      "<class 'dict'>\n",
      "{}\n"
     ]
    }
   ],
   "source": [
    "dict={}\n",
    "print(type(dict))\n",
    "print(dict)"
   ]
  },
  {
   "cell_type": "code",
   "execution_count": 68,
   "metadata": {},
   "outputs": [
    {
     "ename": "TypeError",
     "evalue": "unhashable type: 'list'",
     "output_type": "error",
     "traceback": [
      "\u001b[1;31m---------------------------------------------------------------------------\u001b[0m",
      "\u001b[1;31mTypeError\u001b[0m                                 Traceback (most recent call last)",
      "Cell \u001b[1;32mIn[68], line 1\u001b[0m\n\u001b[1;32m----> 1\u001b[0m d1\u001b[39m=\u001b[39m{\u001b[39m1\u001b[39m:(\u001b[39m\"\u001b[39m\u001b[39mhello\u001b[39m\u001b[39m\"\u001b[39m),\u001b[39m2\u001b[39m:(\u001b[39m\"\u001b[39m\u001b[39mworld  to\u001b[39m\u001b[39m\"\u001b[39m),\u001b[39mlist\u001b[39m:[\u001b[39m1\u001b[39m,\u001b[39m2\u001b[39m,\u001b[39m3\u001b[39m,\u001b[39m4\u001b[39m,\u001b[39m85\u001b[39m],\u001b[39m6\u001b[39m:{\u001b[39m4\u001b[39m:\u001b[39m\"\u001b[39m\u001b[39mKeyboardInterrupt\u001b[39m\u001b[39m\"\u001b[39m}}\n\u001b[0;32m      2\u001b[0m \u001b[39mprint\u001b[39m(d1)\n",
      "\u001b[1;31mTypeError\u001b[0m: unhashable type: 'list'"
     ]
    }
   ],
   "source": [
    "d1={1:(\"hello\"),2:(\"world  to\"),list:[1,2,3,4,85],6:{4:\"KeyboardInterrupt\"}}\n",
    "print(d1)\n",
    "\n",
    "\n",
    "\n"
   ]
  },
  {
   "cell_type": "code",
   "execution_count": null,
   "metadata": {},
   "outputs": [
    {
     "data": {
      "text/plain": [
       "{10: 'print'}"
      ]
     },
     "execution_count": 17,
     "metadata": {},
     "output_type": "execute_result"
    }
   ],
   "source": [
    "d2={}\n",
    "d2[10]=\"print\"\n",
    "d2"
   ]
  },
  {
   "cell_type": "code",
   "execution_count": null,
   "metadata": {},
   "outputs": [
    {
     "name": "stdout",
     "output_type": "stream",
     "text": [
      "{1: 'python'}\n",
      "{1: 'python'}\n"
     ]
    }
   ],
   "source": [
    "d1={1:\"python\"}\n",
    "d2=d1.copy()\n",
    "d1.values()\n",
    "print(d2)\n",
    "print(d1)"
   ]
  },
  {
   "cell_type": "code",
   "execution_count": null,
   "metadata": {},
   "outputs": [
    {
     "data": {
      "text/plain": [
       "9"
      ]
     },
     "execution_count": 1,
     "metadata": {},
     "output_type": "execute_result"
    }
   ],
   "source": [
    "\n",
    "a=5\n",
    "b=4\n",
    "a+=b\n",
    "a\n",
    "\n"
   ]
  },
  {
   "cell_type": "code",
   "execution_count": null,
   "metadata": {},
   "outputs": [
    {
     "data": {
      "text/plain": [
       "4.0625"
      ]
     },
     "execution_count": 7,
     "metadata": {},
     "output_type": "execute_result"
    }
   ],
   "source": [
    "a=1\n",
    "b=2\n",
    "c=4\n",
    "\n",
    "e=c+b/c/(b*c)\n",
    "e"
   ]
  },
  {
   "cell_type": "code",
   "execution_count": null,
   "metadata": {},
   "outputs": [
    {
     "name": "stdout",
     "output_type": "stream",
     "text": [
      "Hello! Welcome.\n"
     ]
    }
   ],
   "source": [
    "# Precedence of 'or' & 'and'\n",
    "name = \"Alex\" \n",
    "age = 0\n",
    "if name == \"Alex\" or name == \"John\" and age >= 2:\n",
    "    print(\"Hello! Welcome.\") \n",
    "else:\n",
    "    print(\"Good Bye!!\")"
   ]
  },
  {
   "cell_type": "code",
   "execution_count": null,
   "metadata": {},
   "outputs": [
    {
     "name": "stdout",
     "output_type": "stream",
     "text": [
      "true\n",
      "an outside of if\n"
     ]
    }
   ],
   "source": [
    "if (1+2)>0:\n",
    "    print(\"true\")\n",
    "print(\"an outside of if\")"
   ]
  },
  {
   "cell_type": "code",
   "execution_count": null,
   "metadata": {},
   "outputs": [],
   "source": [
    "i=5\n",
    "while i >0:\n",
    "    print(i,\"inside\")\n"
   ]
  },
  {
   "cell_type": "code",
   "execution_count": null,
   "metadata": {},
   "outputs": [
    {
     "name": "stdout",
     "output_type": "stream",
     "text": [
      "first\n",
      "0\n",
      "first\n",
      "1\n",
      "first\n",
      "2\n",
      "first\n",
      "3\n",
      "first\n",
      "4\n",
      "first\n",
      "skipped 5\n",
      "first\n",
      "skipped 6\n",
      "first\n",
      "7\n",
      "first\n",
      "8\n",
      "first\n",
      "9\n"
     ]
    }
   ],
   "source": [
    "for i in range(10):\n",
    "    print(\"first\")\n",
    "    if i==5 or i==6:\n",
    "        print(\"skipped\",i)\n",
    "        continue\n",
    "    print(i)"
   ]
  },
  {
   "attachments": {},
   "cell_type": "markdown",
   "metadata": {},
   "source": [
    "functions\n"
   ]
  },
  {
   "cell_type": "code",
   "execution_count": null,
   "metadata": {},
   "outputs": [
    {
     "name": "stdout",
     "output_type": "stream",
     "text": [
      "sum 40\n"
     ]
    }
   ],
   "source": [
    "def add(a,b):\n",
    "    sum=a+b\n",
    "    # print(\"sum=\",sum)\n",
    "    return sum\n",
    "\n",
    "answer=add(10,30)\n",
    "print(\"sum\",answer)\n"
   ]
  },
  {
   "attachments": {},
   "cell_type": "markdown",
   "metadata": {},
   "source": [
    "map() in zip"
   ]
  },
  {
   "cell_type": "code",
   "execution_count": 71,
   "metadata": {},
   "outputs": [
    {
     "name": "stdout",
     "output_type": "stream",
     "text": [
      "{('a', 10), ('d', 48), ('c', 36), ('e', 25), ('b', 25)}\n"
     ]
    }
   ],
   "source": [
    "name=('a','b','c','d','e')\n",
    "roll_number=(10,25,36,48,25)\n",
    "\n",
    "zipped=zip(name,roll_number)\n",
    "\n",
    "print(set(zipped))"
   ]
  },
  {
   "cell_type": "code",
   "execution_count": 2,
   "metadata": {},
   "outputs": [
    {
     "name": "stdout",
     "output_type": "stream",
     "text": [
      "{'raju': 1, 'ramesh': 2, 'ravi': 3, 'ragav': 4, 'ragu': 5}\n"
     ]
    }
   ],
   "source": [
    "name=['raju','ramesh','ravi','ragav','ragu']\n",
    "roll_no=[1,2,3,4,5]\n",
    "\n",
    "mapped=zip(name,roll_no)\n",
    "\n",
    "print(dict(mapped))"
   ]
  },
  {
   "cell_type": "code",
   "execution_count": 7,
   "metadata": {},
   "outputs": [
    {
     "name": "stdout",
     "output_type": "stream",
     "text": [
      "7.3484692283495345\n",
      "2.23606797749979\n"
     ]
    }
   ],
   "source": [
    "import math\n",
    "# 1\n",
    "def computer_sqrt(n):\n",
    "    result=math.sqrt(n)\n",
    "    print(result)\n",
    "computer_sqrt(54)\n",
    "\n",
    "\n",
    "# 2\n",
    "def computer_sqrt(n):\n",
    "    result=math.sqrt(n)\n",
    "    return result\n",
    "\n",
    "ans=computer_sqrt(5)\n",
    "print(ans)"
   ]
  },
  {
   "attachments": {},
   "cell_type": "markdown",
   "metadata": {},
   "source": [
    "even and odd"
   ]
  },
  {
   "cell_type": "code",
   "execution_count": 66,
   "metadata": {},
   "outputs": [
    {
     "name": "stdout",
     "output_type": "stream",
     "text": [
      "even\n"
     ]
    }
   ],
   "source": [
    "x=(int(input(\"enter the number\")))\n",
    "def func1(x):\n",
    "    if (x%2==0):\n",
    "        print(\"even\")\n",
    "    else:\n",
    "        print(\"odd\")\n",
    "func1(x)"
   ]
  },
  {
   "attachments": {},
   "cell_type": "markdown",
   "metadata": {},
   "source": [
    "+or-"
   ]
  },
  {
   "cell_type": "code",
   "execution_count": 50,
   "metadata": {},
   "outputs": [
    {
     "name": "stdout",
     "output_type": "stream",
     "text": [
      "- -5\n"
     ]
    }
   ],
   "source": [
    "def number(x):\n",
    "    if (x>0):\n",
    "        print(\"+\",x)\n",
    "    else:\n",
    "        print(\"-\",x)\n",
    "number(-5)"
   ]
  },
  {
   "attachments": {},
   "cell_type": "markdown",
   "metadata": {},
   "source": [
    "a big and small number"
   ]
  },
  {
   "cell_type": "code",
   "execution_count": 62,
   "metadata": {},
   "outputs": [
    {
     "name": "stdout",
     "output_type": "stream",
     "text": [
      "y is big 47\n",
      " x is small 24\n"
     ]
    }
   ],
   "source": [
    "def big (x,y):\n",
    "\n",
    "    if x>y  :\n",
    "        print(\"x isbig\",x)\n",
    "    else:\n",
    "        print(\"y is big\",y)\n",
    "\n",
    "    if x<y:\n",
    "        print(\" x is small\",x)\n",
    "    else :\n",
    "        print(\"y is small\",y)\n",
    "big(24,47)"
   ]
  },
  {
   "cell_type": "code",
   "execution_count": 74,
   "metadata": {},
   "outputs": [
    {
     "data": {
      "text/plain": [
       "True"
      ]
     },
     "execution_count": 74,
     "metadata": {},
     "output_type": "execute_result"
    }
   ],
   "source": [
    "def number(x):\n",
    "    if (x>0):\n",
    "        flag=True\n",
    "        return flag\n",
    "    else:\n",
    "        flag=False\n",
    "        return flag\n",
    "ans=number(6)\n",
    "ans"
   ]
  },
  {
   "attachments": {},
   "cell_type": "markdown",
   "metadata": {},
   "source": [
    " calculate the area of traingle \"1/2*b*h\""
   ]
  },
  {
   "cell_type": "code",
   "execution_count": 80,
   "metadata": {},
   "outputs": [
    {
     "name": "stdout",
     "output_type": "stream",
     "text": [
      "5.0\n"
     ]
    }
   ],
   "source": [
    "# calculate the area of traingle \"1/2 *b*h\"\n",
    "\n",
    "b=(int(input(\"enter the base\")))\n",
    "h=(int(input(\"enter the hight\")))\n",
    "def function3(b,h):\n",
    "    t1=1/2*b*h\n",
    "    return t1\n",
    "\n",
    "answer=function3(b,h)\n",
    "print(answer)"
   ]
  },
  {
   "attachments": {},
   "cell_type": "markdown",
   "metadata": {},
   "source": [
    "calculate the area of circle pi*r*"
   ]
  },
  {
   "cell_type": "code",
   "execution_count": 84,
   "metadata": {},
   "outputs": [
    {
     "name": "stdout",
     "output_type": "stream",
     "text": [
      "201.088\n"
     ]
    }
   ],
   "source": [
    "# calculate the area of circle pi*r*r\n",
    "\n",
    "r=(int(input(\"enter the redius\")))\n",
    "def num(r):\n",
    "    c1=3.142*r*r\n",
    "    return c1\n",
    "\n",
    "ans=num(r)\n",
    "print(ans)"
   ]
  }
 ],
 "metadata": {
  "kernelspec": {
   "display_name": "Python 3",
   "language": "python",
   "name": "python3"
  },
  "language_info": {
   "codemirror_mode": {
    "name": "ipython",
    "version": 3
   },
   "file_extension": ".py",
   "mimetype": "text/x-python",
   "name": "python",
   "nbconvert_exporter": "python",
   "pygments_lexer": "ipython3",
   "version": "3.11.2"
  },
  "orig_nbformat": 4
 },
 "nbformat": 4,
 "nbformat_minor": 2
}
