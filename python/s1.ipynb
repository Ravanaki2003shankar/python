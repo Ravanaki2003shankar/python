{
 "cells": [
  {
   "cell_type": "code",
   "execution_count": 38,
   "metadata": {},
   "outputs": [],
   "source": [
    "\n",
    "    \n",
    "list=[12,23,445,65,78,87,]\n",
    "print(\"largest of these number :\", max(list))\n"
   ]
  },
  {
   "attachments": {},
   "cell_type": "markdown",
   "metadata": {},
   "source": [
    "Intiger :type(object) -> the object's type type(name, bases, dict, **kwds) -> a new type"
   ]
  },
  {
   "cell_type": "code",
   "execution_count": 39,
   "metadata": {},
   "outputs": [
    {
     "name": "stdout",
     "output_type": "stream",
     "text": [
      "67\n",
      "<class 'int'>\n"
     ]
    }
   ],
   "source": [
    "a=67\n",
    "print(a)\n",
    "print(type(a))"
   ]
  },
  {
   "cell_type": "code",
   "execution_count": 40,
   "metadata": {},
   "outputs": [
    {
     "name": "stdout",
     "output_type": "stream",
     "text": [
      "0\n"
     ]
    }
   ],
   "source": [
    "# a=16\n",
    "# b=45\n",
    "# c=a//b\n",
    "# c\n",
    "a=10\n",
    "b=2\n",
    "c=a%b\n",
    "print(c)\n"
   ]
  },
  {
   "attachments": {},
   "cell_type": "markdown",
   "metadata": {},
   "source": [
    "float"
   ]
  },
  {
   "cell_type": "code",
   "execution_count": 41,
   "metadata": {},
   "outputs": [
    {
     "name": "stdout",
     "output_type": "stream",
     "text": [
      "6.7\n",
      "<class 'float'>\n",
      "0.8571428571428571\n",
      "<class 'float'>\n"
     ]
    }
   ],
   "source": [
    "a=6.7\n",
    "print(a)\n",
    "print(type(a))\n",
    "\n",
    "a=6/7\n",
    "print(a)\n",
    "print(type(a))"
   ]
  },
  {
   "attachments": {},
   "cell_type": "markdown",
   "metadata": {},
   "source": [
    "complex number"
   ]
  },
  {
   "cell_type": "code",
   "execution_count": 42,
   "metadata": {},
   "outputs": [
    {
     "name": "stdout",
     "output_type": "stream",
     "text": [
      "(2+3j)\n",
      "<class 'complex'>\n",
      "(-13+13j)\n"
     ]
    }
   ],
   "source": [
    "a=2+3j\n",
    "print(a)\n",
    "print(type(a))\n",
    "\n",
    "a=1+5j\n",
    "b=2+3j\n",
    "# a+id * c+id=(a*c-b*d)+i(a*d+b*c)\n",
    "c=a*b\n",
    "print(c)"
   ]
  },
  {
   "attachments": {},
   "cell_type": "markdown",
   "metadata": {},
   "source": [
    "boolean"
   ]
  },
  {
   "cell_type": "code",
   "execution_count": 43,
   "metadata": {},
   "outputs": [
    {
     "name": "stdout",
     "output_type": "stream",
     "text": [
      "True\n",
      "False\n",
      "False\n",
      "False\n"
     ]
    }
   ],
   "source": [
    "a=True\n",
    "b=False\n",
    "print(bool(a))\n",
    "print(bool(b))\n",
    "print(a==b)\n",
    "\n",
    "c=None\n",
    "print(bool(c))\n",
    "\n",
    "\n"
   ]
  },
  {
   "attachments": {},
   "cell_type": "markdown",
   "metadata": {},
   "source": [
    "string"
   ]
  },
  {
   "cell_type": "code",
   "execution_count": null,
   "metadata": {},
   "outputs": [],
   "source": []
  },
  {
   "cell_type": "code",
   "execution_count": 44,
   "metadata": {},
   "outputs": [
    {
     "name": "stdout",
     "output_type": "stream",
     "text": [
      "you need to eat some food\n"
     ]
    }
   ],
   "source": [
    "user_input=bool(input(\"are you hungry ?True or False\"))\n",
    "if user_input:\n",
    "    print(\"you need to eat some food\")\n",
    "else:\n",
    "    print(\"let's go for walk:\", user_input)\n"
   ]
  },
  {
   "attachments": {},
   "cell_type": "markdown",
   "metadata": {},
   "source": [
    "lists"
   ]
  },
  {
   "cell_type": "code",
   "execution_count": 81,
   "metadata": {},
   "outputs": [
    {
     "ename": "TypeError",
     "evalue": "'str' object is not callable",
     "output_type": "error",
     "traceback": [
      "\u001b[1;31m---------------------------------------------------------------------------\u001b[0m",
      "\u001b[1;31mTypeError\u001b[0m                                 Traceback (most recent call last)",
      "Cell \u001b[1;32mIn[81], line 2\u001b[0m\n\u001b[0;32m      1\u001b[0m a\u001b[39m=\u001b[39m[\u001b[39m10\u001b[39m,\u001b[39m25.25\u001b[39m,\u001b[39m'''\u001b[39m\u001b[39mhello world\u001b[39m\u001b[39m'''\u001b[39m,\u001b[39m25\u001b[39m,\u001b[39m258.5\u001b[39m,[\u001b[39m100\u001b[39m,\u001b[39m1085\u001b[39m,[\u001b[39m\"\u001b[39m\u001b[39mpython\u001b[39m\u001b[39m\"\u001b[39m]]]\n\u001b[1;32m----> 2\u001b[0m \u001b[39mprint\u001b[39;49m(a[\u001b[39m5\u001b[39;49m][\u001b[39m2\u001b[39;49m][\u001b[39m0\u001b[39;49m])\n",
      "\u001b[1;31mTypeError\u001b[0m: 'str' object is not callable"
     ]
    }
   ],
   "source": [
    " \n",
    "\n",
    "a=[10,25.25,'''hello world''',25,258.5,[100,1085,[\"python\"]]]\n",
    "print(a[5][2][0])\n"
   ]
  },
  {
   "cell_type": "code",
   "execution_count": 4,
   "metadata": {},
   "outputs": [
    {
     "name": "stdout",
     "output_type": "stream",
     "text": [
      "[1, 2, 3, 4, 5, 6, 7, 8, 9, 10]\n",
      "[1, 4, 7, 10]\n"
     ]
    }
   ],
   "source": [
    "# # list1=input(\"enter the elelment:\")\n",
    "# # list2=list1.split()\n",
    "# # print(list2)\n",
    "\n",
    "# a=10\n",
    "# b=20\n",
    "# c=[]\n",
    "# append\n",
    "# c.append(input(\"enter the element :\"))\n",
    "# c.append(input(\"enter the elementa :\"))\n",
    "# print(c)\n",
    "\n",
    "# list=[]\n",
    "# list.append(input(\"enter the element\"))\n",
    "# list\n",
    "\n",
    "# list=[1,2,3,4,5]\n",
    "# print(list)\n",
    "\n",
    "# list.insert(0,[\"hello python\",100,200])\n",
    "# print(list)\n",
    "\n",
    "# extend\n",
    "\n",
    "# list=[0,1,2]\n",
    "# list.extend([3,4,5,6,7,8,9,10])\n",
    "# list\n",
    "# # reverse\n",
    "# list=[0, 1, 2, 3, 4, 5, 6, 7, 8, 9, 10]\n",
    "# print(list)\n",
    "# list.reverse()\n",
    "# list\n",
    "\n",
    "# remove\n",
    "\n",
    "# list=[0, 1, 2, 3, 4, 5, 6, 7, 8, 9, 10]\n",
    "# print(list)\n",
    "\n",
    "# for a in list :\n",
    "#     print(a)\n",
    "#     list.remove(a)\n",
    "\n",
    "# print(list)\n",
    "\n",
    "# pop function\n",
    "# list=[0, 1, 2, 3, 4, 5, 6, 7, 8, 9, 10]\n",
    "# print(list)\n",
    "# returnvalue=(list.pop(-7))\n",
    "# print(returnvalue)\n",
    "# list\n",
    "\n",
    "# slicing_list\n",
    "list=[ 1, 2, 3, 4, 5, 6, 7, 8, 9, 10]\n",
    "print(list)\n",
    "sliced_list=list[0:10:3]\n",
    "print(sliced_list)\n",
    "\n",
    "\n"
   ]
  },
  {
   "attachments": {},
   "cell_type": "markdown",
   "metadata": {},
   "source": [
    "string\n"
   ]
  },
  {
   "cell_type": "code",
   "execution_count": 77,
   "metadata": {},
   "outputs": [
    {
     "ename": "TypeError",
     "evalue": "'str' object is not callable",
     "output_type": "error",
     "traceback": [
      "\u001b[1;31m---------------------------------------------------------------------------\u001b[0m",
      "\u001b[1;31mTypeError\u001b[0m                                 Traceback (most recent call last)",
      "Cell \u001b[1;32mIn[77], line 3\u001b[0m\n\u001b[0;32m      1\u001b[0m text\u001b[39m=\u001b[39m\u001b[39m\"\u001b[39m\u001b[39mkeonics hubli\u001b[39m\u001b[39m\"\u001b[39m\n\u001b[0;32m      2\u001b[0m a\u001b[39m=\u001b[39mtext\u001b[39m.\u001b[39mupper()\n\u001b[1;32m----> 3\u001b[0m \u001b[39mprint\u001b[39;49m(a)\n",
      "\u001b[1;31mTypeError\u001b[0m: 'str' object is not callable"
     ]
    }
   ],
   "source": [
    "text=\"keonics hubli\"\n",
    "a=text.upper()\n",
    "print(a)"
   ]
  },
  {
   "attachments": {},
   "cell_type": "markdown",
   "metadata": {},
   "source": [
    " tuple"
   ]
  },
  {
   "cell_type": "code",
   "execution_count": 3,
   "metadata": {},
   "outputs": [
    {
     "name": "stdout",
     "output_type": "stream",
     "text": [
      "25\n"
     ]
    },
    {
     "data": {
      "text/plain": [
       "('python', 10, 11, 12, 13, 14)"
      ]
     },
     "execution_count": 3,
     "metadata": {},
     "output_type": "execute_result"
    }
   ],
   "source": [
    "t1=('python',[10,25])\n",
    "print(t1[1][1])\n",
    "t1\n",
    "\n",
    "t1=('python',10)\n",
    "t2=(11,12,13,14)\n",
    "t3=(t1+t2)\n",
    "t3"
   ]
  },
  {
   "cell_type": "code",
   "execution_count": 29,
   "metadata": {},
   "outputs": [
    {
     "name": "stdout",
     "output_type": "stream",
     "text": [
      "100\n",
      "1520\n",
      "142\n"
     ]
    }
   ],
   "source": [
    "t1=(100,1520,142)\n",
    "t1\n",
    "max(t1)\n",
    "a,b,c=t1\n",
    "print(a)\n",
    "print(b)\n",
    "print(c)"
   ]
  },
  {
   "cell_type": "code",
   "execution_count": 27,
   "metadata": {},
   "outputs": [
    {
     "data": {
      "text/plain": [
       "21"
      ]
     },
     "execution_count": 27,
     "metadata": {},
     "output_type": "execute_result"
    }
   ],
   "source": [
    "t1=(\"hello to python world\")\n",
    "# print(t1)\n",
    "# del t1\n",
    "# print(t1)\n",
    "len(t1)"
   ]
  },
  {
   "attachments": {},
   "cell_type": "markdown",
   "metadata": {},
   "source": [
    "set()"
   ]
  },
  {
   "cell_type": "code",
   "execution_count": 8,
   "metadata": {},
   "outputs": [
    {
     "name": "stdout",
     "output_type": "stream",
     "text": [
      "{'h', ' ', 'w', 's', 'y', 'p', 'e', 'l', 'n', 'o', 'i', 'd', 't', 'r'}\n"
     ]
    }
   ],
   "source": [
    "s1=set(\"python is on the world\")\n",
    "print(s1)"
   ]
  },
  {
   "cell_type": "code",
   "execution_count": 18,
   "metadata": {},
   "outputs": [
    {
     "name": "stdout",
     "output_type": "stream",
     "text": [
      "h\n",
      "l\n",
      " \n",
      "y\n",
      "p\n",
      "e\n",
      "n\n",
      "o\n",
      "t\n"
     ]
    }
   ],
   "source": [
    "s1=set(\"hello python\")\n",
    "for i in s1:\n",
    "    print(i,sep='')"
   ]
  },
  {
   "cell_type": "code",
   "execution_count": 19,
   "metadata": {},
   "outputs": [
    {
     "name": "stdout",
     "output_type": "stream",
     "text": [
      "<class 'tuple'>\n"
     ]
    },
    {
     "data": {
      "text/plain": [
       "(1, 2, 3, 'python')"
      ]
     },
     "execution_count": 19,
     "metadata": {},
     "output_type": "execute_result"
    }
   ],
   "source": [
    "s1=(1,2,3,\"python\")\n",
    "print(type(s1))\n",
    "s1"
   ]
  },
  {
   "cell_type": "code",
   "execution_count": 22,
   "metadata": {},
   "outputs": [
    {
     "name": "stdout",
     "output_type": "stream",
     "text": [
      "{1, 3, 5, 6, 7, 8, 9}\n"
     ]
    }
   ],
   "source": [
    "s1={6,7,8}\n",
    "\n",
    "s1.add(9)\n",
    "for i in range(1,6,2):\n",
    "    s1.add(i)\n",
    "print(s1)"
   ]
  },
  {
   "attachments": {},
   "cell_type": "markdown",
   "metadata": {},
   "source": [
    "Dictionary"
   ]
  },
  {
   "cell_type": "code",
   "execution_count": 6,
   "metadata": {},
   "outputs": [
    {
     "name": "stdout",
     "output_type": "stream",
     "text": [
      "<class 'dict'>\n",
      "{}\n"
     ]
    }
   ],
   "source": [
    "dict={}\n",
    "print(type(dict))\n",
    "print(dict)"
   ]
  },
  {
   "cell_type": "code",
   "execution_count": 26,
   "metadata": {},
   "outputs": [
    {
     "name": "stdout",
     "output_type": "stream",
     "text": [
      "{1: 'hello', 2: 'world  to', <class 'list'>: [1, 2, 3, 4, 85], 6: {4: 'KeyboardInterrupt'}}\n"
     ]
    }
   ],
   "source": [
    "d1={1:(\"hello\"),2:(\"world  to\"),list:[1,2,3,4,85],6:{4:\"KeyboardInterrupt\"}}\n",
    "print(d1)\n",
    "del(d1)\n",
    "\n",
    "\n"
   ]
  },
  {
   "cell_type": "code",
   "execution_count": 17,
   "metadata": {},
   "outputs": [
    {
     "data": {
      "text/plain": [
       "{10: 'print'}"
      ]
     },
     "execution_count": 17,
     "metadata": {},
     "output_type": "execute_result"
    }
   ],
   "source": [
    "d2={}\n",
    "d2[10]=\"print\"\n",
    "d2"
   ]
  },
  {
   "cell_type": "code",
   "execution_count": 1,
   "metadata": {},
   "outputs": [
    {
     "name": "stdout",
     "output_type": "stream",
     "text": [
      "{1: 'python'}\n",
      "{1: 'python'}\n"
     ]
    }
   ],
   "source": [
    "d1={1:\"python\"}\n",
    "d2=d1.copy()\n",
    "d1.values()\n",
    "print(d2)\n",
    "print(d1)"
   ]
  },
  {
   "cell_type": "code",
   "execution_count": 1,
   "metadata": {},
   "outputs": [
    {
     "data": {
      "text/plain": [
       "9"
      ]
     },
     "execution_count": 1,
     "metadata": {},
     "output_type": "execute_result"
    }
   ],
   "source": [
    "\n",
    "a=5\n",
    "b=4\n",
    "a+=b\n",
    "a\n",
    "\n"
   ]
  },
  {
   "cell_type": "code",
   "execution_count": 7,
   "metadata": {},
   "outputs": [
    {
     "data": {
      "text/plain": [
       "4.0625"
      ]
     },
     "execution_count": 7,
     "metadata": {},
     "output_type": "execute_result"
    }
   ],
   "source": [
    "a=1\n",
    "b=2\n",
    "c=4\n",
    "\n",
    "e=c+b/c/(b*c)\n",
    "e"
   ]
  },
  {
   "cell_type": "code",
   "execution_count": 10,
   "metadata": {},
   "outputs": [
    {
     "name": "stdout",
     "output_type": "stream",
     "text": [
      "Hello! Welcome.\n"
     ]
    }
   ],
   "source": [
    "# Precedence of 'or' & 'and'\n",
    "name = \"Alex\" \n",
    "age = 0\n",
    "if name == \"Alex\" or name == \"John\" and age >= 2:\n",
    "    print(\"Hello! Welcome.\") \n",
    "else:\n",
    "    print(\"Good Bye!!\")"
   ]
  },
  {
   "cell_type": "code",
   "execution_count": 20,
   "metadata": {},
   "outputs": [
    {
     "name": "stdout",
     "output_type": "stream",
     "text": [
      "true\n",
      "an outside of if\n"
     ]
    }
   ],
   "source": [
    "if (1+2)>0:\n",
    "    print(\"true\")\n",
    "print(\"an outside of if\")"
   ]
  },
  {
   "cell_type": "code",
   "execution_count": null,
   "metadata": {},
   "outputs": [],
   "source": [
    "l1=[1,2,3,4,5,6]\n",
    "if "
   ]
  }
 ],
 "metadata": {
  "kernelspec": {
   "display_name": "Python 3",
   "language": "python",
   "name": "python3"
  },
  "language_info": {
   "codemirror_mode": {
    "name": "ipython",
    "version": 3
   },
   "file_extension": ".py",
   "mimetype": "text/x-python",
   "name": "python",
   "nbconvert_exporter": "python",
   "pygments_lexer": "ipython3",
   "version": "3.11.2"
  },
  "orig_nbformat": 4
 },
 "nbformat": 4,
 "nbformat_minor": 2
}
