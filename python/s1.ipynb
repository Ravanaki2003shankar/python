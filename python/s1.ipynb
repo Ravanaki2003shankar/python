{
 "cells": [
  {
   "cell_type": "code",
   "execution_count": 38,
   "metadata": {},
   "outputs": [],
   "source": [
    "\n",
    "    \n",
    "list=[12,23,445,65,78,87,]\n",
    "print(\"largest of these number :\", max(list))\n"
   ]
  },
  {
   "attachments": {},
   "cell_type": "markdown",
   "metadata": {},
   "source": [
    "Intiger :type(object) -> the object's type type(name, bases, dict, **kwds) -> a new type"
   ]
  },
  {
   "cell_type": "code",
   "execution_count": 39,
   "metadata": {},
   "outputs": [
    {
     "name": "stdout",
     "output_type": "stream",
     "text": [
      "67\n",
      "<class 'int'>\n"
     ]
    }
   ],
   "source": [
    "a=67\n",
    "print(a)\n",
    "print(type(a))"
   ]
  },
  {
   "cell_type": "code",
   "execution_count": 40,
   "metadata": {},
   "outputs": [
    {
     "name": "stdout",
     "output_type": "stream",
     "text": [
      "0\n"
     ]
    }
   ],
   "source": [
    "# a=16\n",
    "# b=45\n",
    "# c=a//b\n",
    "# c\n",
    "a=10\n",
    "b=2\n",
    "c=a%b\n",
    "print(c)\n"
   ]
  },
  {
   "attachments": {},
   "cell_type": "markdown",
   "metadata": {},
   "source": [
    "float"
   ]
  },
  {
   "cell_type": "code",
   "execution_count": 41,
   "metadata": {},
   "outputs": [
    {
     "name": "stdout",
     "output_type": "stream",
     "text": [
      "6.7\n",
      "<class 'float'>\n",
      "0.8571428571428571\n",
      "<class 'float'>\n"
     ]
    }
   ],
   "source": [
    "a=6.7\n",
    "print(a)\n",
    "print(type(a))\n",
    "\n",
    "a=6/7\n",
    "print(a)\n",
    "print(type(a))"
   ]
  },
  {
   "attachments": {},
   "cell_type": "markdown",
   "metadata": {},
   "source": [
    "complex number"
   ]
  },
  {
   "cell_type": "code",
   "execution_count": 42,
   "metadata": {},
   "outputs": [
    {
     "name": "stdout",
     "output_type": "stream",
     "text": [
      "(2+3j)\n",
      "<class 'complex'>\n",
      "(-13+13j)\n"
     ]
    }
   ],
   "source": [
    "a=2+3j\n",
    "print(a)\n",
    "print(type(a))\n",
    "\n",
    "a=1+5j\n",
    "b=2+3j\n",
    "# a+id * c+id=(a*c-b*d)+i(a*d+b*c)\n",
    "c=a*b\n",
    "print(c)"
   ]
  },
  {
   "attachments": {},
   "cell_type": "markdown",
   "metadata": {},
   "source": [
    "boolean"
   ]
  },
  {
   "cell_type": "code",
   "execution_count": 43,
   "metadata": {},
   "outputs": [
    {
     "name": "stdout",
     "output_type": "stream",
     "text": [
      "True\n",
      "False\n",
      "False\n",
      "False\n"
     ]
    }
   ],
   "source": [
    "a=True\n",
    "b=False\n",
    "print(bool(a))\n",
    "print(bool(b))\n",
    "print(a==b)\n",
    "\n",
    "c=None\n",
    "print(bool(c))\n",
    "\n",
    "\n"
   ]
  },
  {
   "cell_type": "code",
   "execution_count": 44,
   "metadata": {},
   "outputs": [
    {
     "name": "stdout",
     "output_type": "stream",
     "text": [
      "you need to eat some food\n"
     ]
    }
   ],
   "source": [
    "user_input=bool(input(\"are you hungry ?True or False\"))\n",
    "if user_input:\n",
    "    print(\"you need to eat some food\")\n",
    "else:\n",
    "    print(\"let's go for walk:\", user_input)\n"
   ]
  },
  {
   "attachments": {},
   "cell_type": "markdown",
   "metadata": {},
   "source": [
    "lists"
   ]
  },
  {
   "cell_type": "code",
   "execution_count": 45,
   "metadata": {},
   "outputs": [
    {
     "name": "stdout",
     "output_type": "stream",
     "text": [
      "python\n"
     ]
    }
   ],
   "source": [
    " \n",
    "\n",
    "a=[10,25.25,'''hello world''',25,258.5,[100,1085,[\"python\"]]]\n",
    "print(a[5][2][0])\n"
   ]
  },
  {
   "cell_type": "code",
   "execution_count": 103,
   "metadata": {},
   "outputs": [
    {
     "name": "stdout",
     "output_type": "stream",
     "text": [
      "[0, 1, 2, 3, 4, 5, 6, 7, 8, 9, 10]\n",
      "[2, 3, 4, 5, 6, 7, 8]\n"
     ]
    }
   ],
   "source": [
    "# # list1=input(\"enter the elelment:\")\n",
    "# # list2=list1.split()\n",
    "# # print(list2)\n",
    "\n",
    "# a=10\n",
    "# b=20\n",
    "# c=[]\n",
    "# append\n",
    "# c.append(input(\"enter the element :\"))\n",
    "# c.append(input(\"enter the elementa :\"))\n",
    "# print(c)\n",
    "\n",
    "# list=[]\n",
    "# list.append(input(\"enter the element\"))\n",
    "# list\n",
    "\n",
    "# list=[1,2,3,4,5]\n",
    "# print(list)\n",
    "\n",
    "# list.insert(0,[\"hello python\",100,200])\n",
    "# print(list)\n",
    "\n",
    "# extend\n",
    "\n",
    "# list=[0,1,2]\n",
    "# list.extend([3,4,5,6,7,8,9,10])\n",
    "# list\n",
    "# # reverse\n",
    "# list=[0, 1, 2, 3, 4, 5, 6, 7, 8, 9, 10]\n",
    "# print(list)\n",
    "# list.reverse()\n",
    "# list\n",
    "\n",
    "# remove\n",
    "\n",
    "# list=[0, 1, 2, 3, 4, 5, 6, 7, 8, 9, 10]\n",
    "# print(list)\n",
    "\n",
    "# for a in list :\n",
    "#     print(a)\n",
    "#     list.remove(a)\n",
    "\n",
    "# print(list)\n",
    "\n",
    "# pop function\n",
    "# list=[0, 1, 2, 3, 4, 5, 6, 7, 8, 9, 10]\n",
    "# print(list)\n",
    "# returnvalue=(list.pop(5))\n",
    "# print(returnvalue)\n",
    "# list\n",
    "\n",
    "# slicing_list\n",
    "# list=[0, 1, 2, 3, 4, 5, 6, 7, 8, 9, 10]\n",
    "# print(list)\n",
    "# sliced_list=list[2:9]\n",
    "# print(sliced_list)\n",
    "\n",
    "\n"
   ]
  },
  {
   "attachments": {},
   "cell_type": "markdown",
   "metadata": {},
   "source": [
    "string\n"
   ]
  },
  {
   "cell_type": "code",
   "execution_count": 105,
   "metadata": {},
   "outputs": [
    {
     "name": "stdout",
     "output_type": "stream",
     "text": [
      "KEONICS HUBLI\n"
     ]
    }
   ],
   "source": [
    "text=\"keonics hubli\"\n",
    "a=text.upper()\n",
    "print(a)"
   ]
  }
 ],
 "metadata": {
  "kernelspec": {
   "display_name": "Python 3",
   "language": "python",
   "name": "python3"
  },
  "language_info": {
   "codemirror_mode": {
    "name": "ipython",
    "version": 3
   },
   "file_extension": ".py",
   "mimetype": "text/x-python",
   "name": "python",
   "nbconvert_exporter": "python",
   "pygments_lexer": "ipython3",
   "version": "3.11.2"
  },
  "orig_nbformat": 4
 },
 "nbformat": 4,
 "nbformat_minor": 2
}
