{
 "cells": [
  {
   "cell_type": "code",
   "execution_count": 48,
   "metadata": {},
   "outputs": [
    {
     "ename": "TypeError",
     "evalue": "can only concatenate str (not \"int\") to str",
     "output_type": "error",
     "traceback": [
      "\u001b[1;31m---------------------------------------------------------------------------\u001b[0m",
      "\u001b[1;31mTypeError\u001b[0m                                 Traceback (most recent call last)",
      "Cell \u001b[1;32mIn[48], line 3\u001b[0m\n\u001b[0;32m      1\u001b[0m \u001b[39mlist\u001b[39m\u001b[39m=\u001b[39m[]\n\u001b[0;32m      2\u001b[0m n\u001b[39m=\u001b[39m\u001b[39minput\u001b[39m(\u001b[39m\"\u001b[39m\u001b[39menter the numbers\u001b[39m\u001b[39m\"\u001b[39m)\n\u001b[1;32m----> 3\u001b[0m \u001b[39mfor\u001b[39;00m i \u001b[39min\u001b[39;00m \u001b[39mrange\u001b[39m (\u001b[39m1\u001b[39m,n\u001b[39m+\u001b[39;49m\u001b[39m1\u001b[39;49m):\n\u001b[0;32m      4\u001b[0m     element\u001b[39m=\u001b[39m\u001b[39mint\u001b[39m(\u001b[39minput\u001b[39m(\u001b[39m\"\u001b[39m\u001b[39menter the elements\u001b[39m\u001b[39m\"\u001b[39m))\n\u001b[0;32m      5\u001b[0m     \u001b[39mlist\u001b[39m\u001b[39m.\u001b[39mappend(element)\n",
      "\u001b[1;31mTypeError\u001b[0m: can only concatenate str (not \"int\") to str"
     ]
    }
   ],
   "source": [
    "list=[]\n",
    "n=input(\"enter the numbers\")\n",
    "for i in range (1,n+1):\n",
    "    element=int(input(\"enter the elements\"))\n",
    "    list.append(element)\n",
    "    # print(a)\n",
    "    print(\"largest element is:\",max (list))\n",
    "    \n",
    "    \n",
    "\n"
   ]
  },
  {
   "cell_type": "code",
   "execution_count": 49,
   "metadata": {},
   "outputs": [
    {
     "name": "stdout",
     "output_type": "stream",
     "text": [
      "largest of these number : 445\n"
     ]
    }
   ],
   "source": [
    "list=[12,23,445,65,78,87,]\n",
    "print(\"largest of these number :\", max(list))"
   ]
  }
 ],
 "metadata": {
  "language_info": {
   "name": "python"
  },
  "orig_nbformat": 4
 },
 "nbformat": 4,
 "nbformat_minor": 2
}
